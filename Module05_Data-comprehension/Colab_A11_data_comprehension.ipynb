{
  "cells": [
    {
      "cell_type": "markdown",
      "source": [
        "# Data comprehension\n",
        "Practice working with list comprehension, dictionary comprehension and set comprehension following Lec 11"
      ],
      "metadata": {
        "id": "-ZHVRHMui18N"
      }
    },
    {
      "cell_type": "markdown",
      "metadata": {
        "id": "INt5QZg_yTgG"
      },
      "source": [
        "**Ques 1:**\n",
        "You are given the list below, make column 0(the words) the key for a dictionary with the values as the rest of the list.\n",
        "\n",
        "```\n",
        "list_pos = [\n",
        "    ['drawer', 141, 2, 3],\n",
        "    ['hedge', 213, 1, 6],\n",
        "    ['pantry', 328, 1, 7]\n",
        "]\n",
        "\n",
        "list_pos\n",
        "\n",
        "# You output should be:\n",
        "\n",
        "{'drawer': [141, 2, 3], 'hedge': [213, 1, 6], 'pantry': [328, 1, 7]}\n",
        "\n",
        "```\n",
        "\n",
        "Requirement: Do both traditional loops and list comprehensions.\n"
      ]
    },
    {
      "cell_type": "code",
      "execution_count": 2,
      "metadata": {
        "colab": {
          "base_uri": "https://localhost:8080/"
        },
        "id": "dX7uE78eyTgD",
        "outputId": "c0ae3118-26b8-4e48-8076-443123c05fde"
      },
      "outputs": [
        {
          "output_type": "execute_result",
          "data": {
            "text/plain": [
              "[['drawer', 141, 2, 3], ['hedge', 213, 1, 6], ['pantry', 328, 1, 7]]"
            ]
          },
          "metadata": {},
          "execution_count": 2
        }
      ],
      "source": [
        "#postion of a word in a dictionary\n",
        "list_pos = [\n",
        "    ['drawer', 141, 2, 3],\n",
        "    ['hedge', 213, 1, 6],\n",
        "    ['pantry', 328, 1, 7]\n",
        "]\n",
        "\n",
        "list_pos"
      ]
    },
    {
      "cell_type": "code",
      "source": [
        "# Solution\n",
        "#Loop\n",
        "\n",
        "dict_pos = {}\n",
        "for item in list_pos:\n",
        "    dict_pos[item[0]] = item[1:]\n",
        "\n",
        "print(dict_pos)\n",
        "\n",
        "#LC\n",
        "dict_pos = {item[0]: item[1:] for item in list_pos}\n",
        "\n",
        "print(dict_pos)"
      ],
      "metadata": {
        "id": "s2cCUs6PWCtf",
        "outputId": "3c0710f1-9e55-4b14-d6ca-6ad60e92e23a",
        "colab": {
          "base_uri": "https://localhost:8080/"
        }
      },
      "execution_count": 4,
      "outputs": [
        {
          "output_type": "stream",
          "name": "stdout",
          "text": [
            "{'drawer': [141, 2, 3], 'hedge': [213, 1, 6], 'pantry': [328, 1, 7]}\n",
            "{'drawer': [141, 2, 3], 'hedge': [213, 1, 6], 'pantry': [328, 1, 7]}\n"
          ]
        }
      ]
    },
    {
      "cell_type": "markdown",
      "source": [
        "**Ques 2:** You are given the dictionary below, combine the keys(the words) and the values inside the dictionary and create a list.\n",
        "\n",
        "You output should be:\n",
        "\n",
        "\n",
        "\n",
        "```\n",
        "dictionary_pos = {\n",
        "    'drawer': [141, 2, 3],\n",
        "    'hedge': [213, 1, 6],\n",
        "    'pantry': [328, 1, 7]\n",
        "}\n",
        "\n",
        "dictionary_pos\n",
        "\n",
        "# Your output should:\n",
        "\n",
        "[['drawer', 141, 2, 3], ['hedge', 213, 1, 6], ['pantry', 328, 1, 7]]\n",
        "```\n",
        "\n",
        "Requirement: Do both traditional loops and list comprehensions."
      ],
      "metadata": {
        "id": "kPV7FgpUHdt-"
      }
    },
    {
      "cell_type": "code",
      "execution_count": 6,
      "metadata": {
        "id": "VL-scbyryTgJ",
        "colab": {
          "base_uri": "https://localhost:8080/"
        },
        "outputId": "2a470306-b59e-44c1-d5d2-e40264b18190"
      },
      "outputs": [
        {
          "output_type": "execute_result",
          "data": {
            "text/plain": [
              "{'drawer': [141, 2, 3], 'hedge': [213, 1, 6], 'pantry': [328, 1, 7]}"
            ]
          },
          "metadata": {},
          "execution_count": 6
        }
      ],
      "source": [
        "#Your turn:\n",
        "#postion of a word in a dictionary\n",
        "dictionary_pos = {\n",
        "    'drawer': [141, 2, 3],\n",
        "    'hedge': [213, 1, 6],\n",
        "    'pantry': [328, 1, 7]\n",
        "}\n",
        "\n",
        "dictionary_pos"
      ]
    },
    {
      "cell_type": "code",
      "execution_count": 9,
      "metadata": {
        "id": "KfZIsa9DyTgK",
        "outputId": "ac2ae05f-5890-43e9-c008-ca06c26cead5",
        "colab": {
          "base_uri": "https://localhost:8080/"
        }
      },
      "outputs": [
        {
          "output_type": "stream",
          "name": "stdout",
          "text": [
            "[['drawer', 141, 2, 3], ['hedge', 213, 1, 6], ['pantry', 328, 1, 7]]\n",
            "[['drawer', 141, 2, 3], ['hedge', 213, 1, 6], ['pantry', 328, 1, 7]]\n"
          ]
        }
      ],
      "source": [
        "# Solution\n",
        "#Loop\n",
        "list_pos = []\n",
        "for key, value in dictionary_pos.items():\n",
        "    list_pos.append([key] + value)\n",
        "\n",
        "print(list_pos)\n",
        "\n",
        "#LC\n",
        "list_pos = [[key] + value for key, value in dictionary_pos.items()]\n",
        "\n",
        "print(list_pos)"
      ]
    },
    {
      "cell_type": "markdown",
      "source": [
        "**Ques 3:** Use list comprehension to rewrite the code, it can be done in one line (and you do not even need an if statement)\n",
        "\n",
        "```\n",
        "result = []\n",
        "myList = list(range(0, 13))\n",
        "for i in range(6, len(myList)):\n",
        "    if i%2 == 0:\n",
        "        result.append(i)\n",
        "\n",
        "result\n",
        "```\n",
        "\n"
      ],
      "metadata": {
        "id": "cvER6YXv4Id5"
      }
    },
    {
      "cell_type": "code",
      "execution_count": 10,
      "metadata": {
        "id": "HGOnba_myTgM",
        "colab": {
          "base_uri": "https://localhost:8080/"
        },
        "outputId": "c143254b-0f33-4410-b033-fdf5e70c6ca0"
      },
      "outputs": [
        {
          "output_type": "stream",
          "name": "stdout",
          "text": [
            "[6, 8, 10, 12]\n"
          ]
        }
      ],
      "source": [
        "#Your Code:\n",
        "result = [i for i in range(6, 13) if i % 2 == 0]\n",
        "\n",
        "print(result)\n"
      ]
    },
    {
      "cell_type": "markdown",
      "source": [
        "**Ques 4a:** Use the following code to perform the tasks given below:\n",
        "\n",
        "\n",
        "\n",
        "```\n",
        "set_a = {1, 2, 3, \"a\", \"b\", \"c\"}\n",
        "set_b = {2, 3, 4, \"c\", \"d\"}\n",
        "set_c = {2, 3, 'd', \"t\", \"a\"}\n",
        "```\n",
        "\n"
      ],
      "metadata": {
        "id": "H7IAbiwH4i-D"
      }
    },
    {
      "cell_type": "code",
      "execution_count": 14,
      "metadata": {
        "id": "CvrNavspyTgN",
        "colab": {
          "base_uri": "https://localhost:8080/"
        },
        "outputId": "0fa6aa8c-0d0d-4883-81c5-8cc0bda03aee"
      },
      "outputs": [
        {
          "output_type": "stream",
          "name": "stdout",
          "text": [
            "{'d', 'b', 4, 1, 'a'}\n"
          ]
        }
      ],
      "source": [
        "# The follow code is supposed to return the different elements in both sets of union_ab and set_a but not both of them.\n",
        "set_a = {1, 2, 3, \"a\", \"b\", \"c\"}\n",
        "set_b = {2, 3, 4, \"c\", \"d\"}\n",
        "\n",
        "union_ab_not_both = set_a ^ set_b\n",
        "\n",
        "print(union_ab_not_both)"
      ]
    },
    {
      "cell_type": "code",
      "source": [
        "# Elements that occur just in set c and not in set a\n",
        "set_a = {1, 2, 3, \"a\", \"b\", \"c\"}\n",
        "set_b = {2, 3, 4, \"c\", \"d\"}\n",
        "set_c = {2, 3, 'd', \"t\", \"a\"}\n",
        "\n",
        "\n",
        "elements_in_c_not_a = set_c - set_a\n",
        "\n",
        "print(elements_in_c_not_a)"
      ],
      "metadata": {
        "colab": {
          "base_uri": "https://localhost:8080/"
        },
        "id": "iL4GrbZknT_y",
        "outputId": "ee79fe06-cf1d-4e7f-dfb0-dc3117449506"
      },
      "execution_count": 15,
      "outputs": [
        {
          "output_type": "stream",
          "name": "stdout",
          "text": [
            "{'d', 't'}\n"
          ]
        }
      ]
    },
    {
      "cell_type": "markdown",
      "source": [
        "**Ques 4b:** This piece of code will work the same as which of the following options:\n",
        "\n",
        "\n",
        "```\n",
        "difference_A = []\n",
        "for a in set_c:\n",
        "  if(not(a in set_a)):\n",
        "    difference_A.append(a)\n",
        "\n",
        "print(difference_A)\n",
        "```\n",
        "\n"
      ],
      "metadata": {
        "id": "E7LmZQwT5Mhr"
      }
    },
    {
      "cell_type": "code",
      "execution_count": 16,
      "metadata": {
        "id": "FvUCzqZuyTgN",
        "colab": {
          "base_uri": "https://localhost:8080/"
        },
        "outputId": "52d57aff-e6da-431e-f926-9028932f469d"
      },
      "outputs": [
        {
          "output_type": "stream",
          "name": "stdout",
          "text": [
            "['d', 't']\n"
          ]
        }
      ],
      "source": [
        "#Rewrite the code:\n",
        "\n",
        "#A) difference = union_ab | set_a\n",
        "\n",
        "#B) difference = set_a - union_ab\n",
        "\n",
        "#C) difference = union_ab ^ set_a\n",
        "\n",
        "difference_A = []\n",
        "for a in set_c:\n",
        "    if not (a in set_a):\n",
        "        difference_A.append(a)\n",
        "\n",
        "print(difference_A)\n"
      ]
    },
    {
      "cell_type": "markdown",
      "metadata": {
        "id": "i1TTuNdgyTgO"
      },
      "source": [
        "**Ques 5:** A procedural function called GC_content(data).\n",
        "Find the GC percentage for each of the elements in dna_list.\n",
        "data is the list, dna_list."
      ]
    },
    {
      "cell_type": "code",
      "execution_count": 18,
      "metadata": {
        "id": "awvBHjfFyTgO"
      },
      "outputs": [],
      "source": [
        "dna_list = ['GAAGTC', 'CGATATGC', 'GTCA', 'CGGACAGTAG']\n",
        "\n"
      ]
    },
    {
      "cell_type": "code",
      "execution_count": 20,
      "metadata": {
        "id": "NL90n2TOyTgO",
        "colab": {
          "base_uri": "https://localhost:8080/"
        },
        "outputId": "97926e49-91b5-41a1-a8e8-fb581340acdf"
      },
      "outputs": [
        {
          "output_type": "stream",
          "name": "stdout",
          "text": [
            "GAAGTC: 50.0\n",
            "CGATATGC: 50.0\n",
            "GTCA: 50.0\n",
            "CGGACAGTAG: 60.0\n"
          ]
        }
      ],
      "source": [
        "#def GC_content(data):\n",
        "def GC_content(data):\n",
        "    for seq in data:\n",
        "        gc_percentage = (seq.count('G') + seq.count('C')) / len(seq) * 100\n",
        "        print(f\"{seq}: {gc_percentage}\")\n",
        "\n",
        "\n",
        "GC_content(dna_list)"
      ]
    }
  ],
  "metadata": {
    "hide_input": false,
    "kernelspec": {
      "display_name": "Python 3",
      "language": "python",
      "name": "python3"
    },
    "language_info": {
      "codemirror_mode": {
        "name": "ipython",
        "version": 3
      },
      "file_extension": ".py",
      "mimetype": "text/x-python",
      "name": "python",
      "nbconvert_exporter": "python",
      "pygments_lexer": "ipython3",
      "version": "3.8.3"
    },
    "toc": {
      "base_numbering": 1,
      "nav_menu": {},
      "number_sections": true,
      "sideBar": true,
      "skip_h1_title": false,
      "title_cell": "Table of Contents",
      "title_sidebar": "Contents",
      "toc_cell": false,
      "toc_position": {},
      "toc_section_display": true,
      "toc_window_display": false
    },
    "colab": {
      "provenance": []
    }
  },
  "nbformat": 4,
  "nbformat_minor": 0
}